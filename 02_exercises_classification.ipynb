{
  "nbformat": 4,
  "nbformat_minor": 0,
  "metadata": {
    "colab": {
      "provenance": [],
      "authorship_tag": "ABX9TyMC5M5nYVz3FNSAy5lAMOT/",
      "include_colab_link": true
    },
    "kernelspec": {
      "name": "python3",
      "display_name": "Python 3"
    },
    "language_info": {
      "name": "python"
    },
    "accelerator": "GPU",
    "gpuClass": "standard"
  },
  "cells": [
    {
      "cell_type": "markdown",
      "metadata": {
        "id": "view-in-github",
        "colab_type": "text"
      },
      "source": [
        "<a href=\"https://colab.research.google.com/github/julio4development/pytorch1/blob/main/02_exercises_classification.ipynb\" target=\"_parent\"><img src=\"https://colab.research.google.com/assets/colab-badge.svg\" alt=\"Open In Colab\"/></a>"
      ]
    },
    {
      "cell_type": "code",
      "execution_count": 47,
      "metadata": {
        "id": "FXOeW7KLAOHz"
      },
      "outputs": [],
      "source": [
        "from sklearn.datasets import make_moons"
      ]
    },
    {
      "cell_type": "code",
      "source": [
        "X, y = make_moons(1000, noise=0.03, random_state=42)"
      ],
      "metadata": {
        "id": "mGoJgYllAj7C"
      },
      "execution_count": 48,
      "outputs": []
    },
    {
      "cell_type": "code",
      "source": [
        "import matplotlib.pyplot as plt"
      ],
      "metadata": {
        "id": "nAMjexjDAyhl"
      },
      "execution_count": 49,
      "outputs": []
    },
    {
      "cell_type": "code",
      "source": [
        "plt.scatter(x=X[:, 0], y=X[:, 1], c=y, cmap=plt.cm.RdYlBu)"
      ],
      "metadata": {
        "colab": {
          "base_uri": "https://localhost:8080/",
          "height": 283
        },
        "id": "GaJJqmuzBNdo",
        "outputId": "f681901b-40ca-451d-813d-5d555dc2c551"
      },
      "execution_count": 50,
      "outputs": [
        {
          "output_type": "execute_result",
          "data": {
            "text/plain": [
              "<matplotlib.collections.PathCollection at 0x7fc16549ea60>"
            ]
          },
          "metadata": {},
          "execution_count": 50
        },
        {
          "output_type": "display_data",
          "data": {
            "text/plain": [
              "<Figure size 432x288 with 1 Axes>"
            ],
            "image/png": "[encoded data removed]"
          },
          "metadata": {
            "needs_background": "light"
          }
        }
      ]
    },
    {
      "cell_type": "code",
      "source": [
        "import pandas as pd\n",
        "moons = pd.DataFrame({\n",
        "    \"X1\": X[:, 0],\n",
        "    \"X2\": X[:, 1],\n",
        "    \"label\": y\n",
        "})\n",
        "moons.head(10)"
      ],
      "metadata": {
        "colab": {
          "base_uri": "https://localhost:8080/",
          "height": 363
        },
        "id": "qZaEWKIgBQOd",
        "outputId": "5e45f685-d5cd-42dd-e33b-bb6295d07a8e"
      },
      "execution_count": 51,
      "outputs": [
        {
          "output_type": "execute_result",
          "data": {
            "text/plain": [
              "         X1        X2  label\n",
              "0 -0.009332  0.390981      1\n",
              "1  0.954574 -0.473756      1\n",
              "2  0.918526 -0.425196      1\n",
              "3  0.412768 -0.376385      1\n",
              "4 -0.845320  0.528799      0\n",
              "5  0.579542 -0.352979      1\n",
              "6  0.294884 -0.209238      1\n",
              "7 -0.014488  0.435896      1\n",
              "8  1.626510 -0.281207      1\n",
              "9  0.671598  0.786422      0"
            ],
            "text/html": [
              "\n",
              "  <div id=\"df-e52c0043-cbb4-46f6-b6bf-e939fa17382c\">\n",
              "    <div class=\"colab-df-container\">\n",
              "      <div>\n",
              "<style scoped>\n",
              "    .dataframe tbody tr th:only-of-type {\n",
              "        vertical-align: middle;\n",
              "    }\n",
              "\n",
              "    .dataframe tbody tr th {\n",
              "        vertical-align: top;\n",
              "    }\n",
              "\n",
              "    .dataframe thead th {\n",
              "        text-align: right;\n",
              "    }\n",
              "</style>\n",
              "<table border=\"1\" class=\"dataframe\">\n",
              "  <thead>\n",
              "    <tr style=\"text-align: right;\">\n",
              "      <th></th>\n",
              "      <th>X1</th>\n",
              "      <th>X2</th>\n",
              "      <th>label</th>\n",
              "    </tr>\n",
              "  </thead>\n",
              "  <tbody>\n",
              "    <tr>\n",
              "      <th>0</th>\n",
              "      <td>-0.009332</td>\n",
              "      <td>0.390981</td>\n",
              "      <td>1</td>\n",
              "    </tr>\n",
              "    <tr>\n",
              "      <th>1</th>\n",
              "      <td>0.954574</td>\n",
              "      <td>-0.473756</td>\n",
              "      <td>1</td>\n",
              "    </tr>\n",
              "    <tr>\n",
              "      <th>2</th>\n",
              "      <td>0.918526</td>\n",
              "      <td>-0.425196</td>\n",
              "      <td>1</td>\n",
              "    </tr>\n",
              "    <tr>\n",
              "      <th>3</th>\n",
              "      <td>0.412768</td>\n",
              "      <td>-0.376385</td>\n",
              "      <td>1</td>\n",
              "    </tr>\n",
              "    <tr>\n",
              "      <th>4</th>\n",
              "      <td>-0.845320</td>\n",
              "      <td>0.528799</td>\n",
              "      <td>0</td>\n",
              "    </tr>\n",
              "    <tr>\n",
              "      <th>5</th>\n",
              "      <td>0.579542</td>\n",
              "      <td>-0.352979</td>\n",
              "      <td>1</td>\n",
              "    </tr>\n",
              "    <tr>\n",
              "      <th>6</th>\n",
              "      <td>0.294884</td>\n",
              "      <td>-0.209238</td>\n",
              "      <td>1</td>\n",
              "    </tr>\n",
              "    <tr>\n",
              "      <th>7</th>\n",
              "      <td>-0.014488</td>\n",
              "      <td>0.435896</td>\n",
              "      <td>1</td>\n",
              "    </tr>\n",
              "    <tr>\n",
              "      <th>8</th>\n",
              "      <td>1.626510</td>\n",
              "      <td>-0.281207</td>\n",
              "      <td>1</td>\n",
              "    </tr>\n",
              "    <tr>\n",
              "      <th>9</th>\n",
              "      <td>0.671598</td>\n",
              "      <td>0.786422</td>\n",
              "      <td>0</td>\n",
              "    </tr>\n",
              "  </tbody>\n",
              "</table>\n",
              "</div>\n",
              "      <button class=\"colab-df-convert\" onclick=\"convertToInteractive('df-e52c0043-cbb4-46f6-b6bf-e939fa17382c')\"\n",
              "              title=\"Convert this dataframe to an interactive table.\"\n",
              "              style=\"display:none;\">\n",
              "        \n",
              "  <svg xmlns=\"http://www.w3.org/2000/svg\" height=\"24px\"viewBox=\"0 0 24 24\"\n",
              "       width=\"24px\">\n",
              "    <path d=\"M0 0h24v24H0V0z\" fill=\"none\"/>\n",
              "    <path d=\"M18.56 5.44l.94 2.06.94-2.06 2.06-.94-2.06-.94-.94-2.06-.94 2.06-2.06.94zm-11 1L8.5 8.5l.94-2.06 2.06-.94-2.06-.94L8.5 2.5l-.94 2.06-2.06.94zm10 10l.94 2.06.94-2.06 2.06-.94-2.06-.94-.94-2.06-.94 2.06-2.06.94z\"/><path d=\"M17.41 7.96l-1.37-1.37c-.4-.4-.92-.59-1.43-.59-.52 0-1.04.2-1.43.59L10.3 9.45l-7.72 7.72c-.78.78-.78 2.05 0 2.83L4 21.41c.39.39.9.59 1.41.59.51 0 1.02-.2 1.41-.59l7.78-7.78 2.81-2.81c.8-.78.8-2.07 0-2.86zM5.41 20L4 18.59l7.72-7.72 1.47 1.35L5.41 20z\"/>\n",
              "  </svg>\n",
              "      </button>\n",
              "      \n",
              "  <style>\n",
              "    .colab-df-container {\n",
              "      display:flex;\n",
              "      flex-wrap:wrap;\n",
              "      gap: 12px;\n",
              "    }\n",
              "\n",
              "    .colab-df-convert {\n",
              "      background-color: #E8F0FE;\n",
              "      border: none;\n",
              "      border-radius: 50%;\n",
              "      cursor: pointer;\n",
              "      display: none;\n",
              "      fill: #1967D2;\n",
              "      height: 32px;\n",
              "      padding: 0 0 0 0;\n",
              "      width: 32px;\n",
              "    }\n",
              "\n",
              "    .colab-df-convert:hover {\n",
              "      background-color: #E2EBFA;\n",
              "      box-shadow: 0px 1px 2px rgba(60, 64, 67, 0.3), 0px 1px 3px 1px rgba(60, 64, 67, 0.15);\n",
              "      fill: #174EA6;\n",
              "    }\n",
              "\n",
              "    [theme=dark] .colab-df-convert {\n",
              "      background-color: #3B4455;\n",
              "      fill: #D2E3FC;\n",
              "    }\n",
              "\n",
              "    [theme=dark] .colab-df-convert:hover {\n",
              "      background-color: #434B5C;\n",
              "      box-shadow: 0px 1px 3px 1px rgba(0, 0, 0, 0.15);\n",
              "      filter: drop-shadow(0px 1px 2px rgba(0, 0, 0, 0.3));\n",
              "      fill: #FFFFFF;\n",
              "    }\n",
              "  </style>\n",
              "\n",
              "      <script>\n",
              "        const buttonEl =\n",
              "          document.querySelector('#df-e52c0043-cbb4-46f6-b6bf-e939fa17382c button.colab-df-convert');\n",
              "        buttonEl.style.display =\n",
              "          google.colab.kernel.accessAllowed ? 'block' : 'none';\n",
              "\n",
              "        async function convertToInteractive(key) {\n",
              "          const element = document.querySelector('#df-e52c0043-cbb4-46f6-b6bf-e939fa17382c');\n",
              "          const dataTable =\n",
              "            await google.colab.kernel.invokeFunction('convertToInteractive',\n",
              "                                                     [key], {});\n",
              "          if (!dataTable) return;\n",
              "\n",
              "          const docLinkHtml = 'Like what you see? Visit the ' +\n",
              "            '<a target=\"_blank\" href=https://colab.research.google.com/notebooks/data_table.ipynb>data table notebook</a>'\n",
              "            + ' to learn more about interactive tables.';\n",
              "          element.innerHTML = '';\n",
              "          dataTable['output_type'] = 'display_data';\n",
              "          await google.colab.output.renderOutput(dataTable, element);\n",
              "          const docLink = document.createElement('div');\n",
              "          docLink.innerHTML = docLinkHtml;\n",
              "          element.appendChild(docLink);\n",
              "        }\n",
              "      </script>\n",
              "    </div>\n",
              "  </div>\n",
              "  "
            ]
          },
          "metadata": {},
          "execution_count": 51
        }
      ]
    },
    {
      "cell_type": "code",
      "source": [
        "import torch\n",
        "X = torch.from_numpy(X).type(torch.float32)\n",
        "y = torch.from_numpy(y).type(torch.float32)"
      ],
      "metadata": {
        "id": "Xne4wALyBXmY"
      },
      "execution_count": 52,
      "outputs": []
    },
    {
      "cell_type": "code",
      "source": [
        "from sklearn.model_selection import train_test_split"
      ],
      "metadata": {
        "id": "gHhw-8F5Belm"
      },
      "execution_count": 53,
      "outputs": []
    },
    {
      "cell_type": "code",
      "source": [
        "X_train, X_test, y_train, y_test = train_test_split(\n",
        "    X,\n",
        "    y,\n",
        "    test_size=0.2,\n",
        "    random_state=42\n",
        ")"
      ],
      "metadata": {
        "id": "w2jnZ_eABjLL"
      },
      "execution_count": 54,
      "outputs": []
    },
    {
      "cell_type": "code",
      "source": [
        "device = \"cuda\" if torch.cuda.is_available() else \"cpu\""
      ],
      "metadata": {
        "id": "uTxkTnSoBpYF"
      },
      "execution_count": 55,
      "outputs": []
    },
    {
      "cell_type": "code",
      "source": [
        "device"
      ],
      "metadata": {
        "colab": {
          "base_uri": "https://localhost:8080/",
          "height": 36
        },
        "id": "QUWnf8-LB_Xr",
        "outputId": "ed9ad1ee-7d2b-4ea0-91c4-0b27f9cd487f"
      },
      "execution_count": 56,
      "outputs": [
        {
          "output_type": "execute_result",
          "data": {
            "text/plain": [
              "'cuda'"
            ],
            "application/vnd.google.colaboratory.intrinsic+json": {
              "type": "string"
            }
          },
          "metadata": {},
          "execution_count": 56
        }
      ]
    },
    {
      "cell_type": "code",
      "source": [
        "from torch import nn\n",
        "class MoonModelV2(nn.Module):\n",
        "    def __init__(self):\n",
        "        super().__init__()\n",
        "        self.layer_1 = nn.Linear(in_features=2, out_features=10)\n",
        "        self.layer_2 = nn.Linear(in_features=10, out_features=10)\n",
        "        self.layer_3 = nn.Linear(in_features=10, out_features=1)\n",
        "        self.relu = nn.ReLU() # <- add in ReLU activation function\n",
        "        # Can also put sigmoid in the model \n",
        "        # This would mean you don't need to use it on the predictions\n",
        "        # self.sigmoid = nn.Sigmoid()\n",
        "\n",
        "    def forward(self, x):\n",
        "      # Intersperse the ReLU activation function between layers\n",
        "       return self.layer_3(self.relu(self.layer_2(self.relu(self.layer_1(x)))))\n",
        "\n",
        "model_3 = MoonModelV2().to(device)\n",
        "print(model_3)"
      ],
      "metadata": {
        "colab": {
          "base_uri": "https://localhost:8080/"
        },
        "id": "ZMkdge2qCAXI",
        "outputId": "6aa53ac9-5ba2-47d2-f348-94ea5766dd76"
      },
      "execution_count": 57,
      "outputs": [
        {
          "output_type": "stream",
          "name": "stdout",
          "text": [
            "MoonModelV2(\n",
            "  (layer_1): Linear(in_features=2, out_features=10, bias=True)\n",
            "  (layer_2): Linear(in_features=10, out_features=10, bias=True)\n",
            "  (layer_3): Linear(in_features=10, out_features=1, bias=True)\n",
            "  (relu): ReLU()\n",
            ")\n"
          ]
        }
      ]
    },
    {
      "cell_type": "code",
      "source": [
        "# Setup loss and optimizer \n",
        "loss_fn = nn.BCEWithLogitsLoss()\n",
        "optimizer = torch.optim.SGD(model_3.parameters(), lr=0.1)"
      ],
      "metadata": {
        "id": "ZQL3ru6LCYof"
      },
      "execution_count": 58,
      "outputs": []
    },
    {
      "cell_type": "code",
      "source": [
        "def accuracy_fn(y_true, y_pred):\n",
        "  # torch.eq calculate if 2 tensors are equal\n",
        "  correct = torch.eq(y_true, y_pred).sum().item()\n",
        "  acc = (correct / len(y_pred)) * 100\n",
        "  return acc"
      ],
      "metadata": {
        "id": "dd5ikFTCDDSG"
      },
      "execution_count": 59,
      "outputs": []
    },
    {
      "cell_type": "code",
      "source": [
        "# Fit the model\n",
        "torch.manual_seed(42)\n",
        "epochs = 1000\n",
        "\n",
        "# Put all data on target device\n",
        "X_train, y_train = X_train.to(device), y_train.to(device)\n",
        "X_test, y_test = X_test.to(device), y_test.to(device)\n",
        "\n",
        "for epoch in range(epochs):\n",
        "    # 1. Forward pass\n",
        "    y_logits = model_3(X_train).squeeze()\n",
        "    y_pred = torch.round(torch.sigmoid(y_logits)) # logits -> prediction probabilities -> prediction labels\n",
        "    \n",
        "    # 2. Calculate loss and accuracy\n",
        "    loss = loss_fn(y_logits, y_train) # BCEWithLogitsLoss calculates loss using logits\n",
        "    acc = accuracy_fn(y_true=y_train, \n",
        "                      y_pred=y_pred)\n",
        "    \n",
        "    # 3. Optimizer zero grad\n",
        "    optimizer.zero_grad()\n",
        "\n",
        "    # 4. Loss backward\n",
        "    loss.backward()\n",
        "\n",
        "    # 5. Optimizer step\n",
        "    optimizer.step()\n",
        "\n",
        "    ### Testing\n",
        "    model_3.eval()\n",
        "    with torch.inference_mode():\n",
        "      # 1. Forward pass\n",
        "      test_logits = model_3(X_test).squeeze()\n",
        "      test_pred = torch.round(torch.sigmoid(test_logits)) # logits -> prediction probabilities -> prediction labels\n",
        "      # 2. Calcuate loss and accuracy\n",
        "      test_loss = loss_fn(test_logits, y_test)\n",
        "      test_acc = accuracy_fn(y_true=y_test,\n",
        "                             y_pred=test_pred)\n",
        "\n",
        "    # Print out what's happening\n",
        "    if epoch % 100 == 0:\n",
        "        print(f\"Epoch: {epoch} | Loss: {loss:.5f}, Accuracy: {acc:.2f}% | Test Loss: {test_loss:.5f}, Test Accuracy: {test_acc:.2f}%\")"
      ],
      "metadata": {
        "colab": {
          "base_uri": "https://localhost:8080/"
        },
        "id": "UGid7C27CdeY",
        "outputId": "4148084b-fbf0-423e-86b4-82692b4abef3"
      },
      "execution_count": 60,
      "outputs": [
        {
          "output_type": "stream",
          "name": "stdout",
          "text": [
            "Epoch: 0 | Loss: 0.68674, Accuracy: 50.00% | Test Loss: 0.68171, Test Accuracy: 50.00%\n",
            "Epoch: 100 | Loss: 0.28038, Accuracy: 86.50% | Test Loss: 0.29231, Test Accuracy: 87.50%\n",
            "Epoch: 200 | Loss: 0.23514, Accuracy: 88.88% | Test Loss: 0.23714, Test Accuracy: 89.50%\n",
            "Epoch: 300 | Loss: 0.22229, Accuracy: 89.88% | Test Loss: 0.22463, Test Accuracy: 89.50%\n",
            "Epoch: 400 | Loss: 0.21283, Accuracy: 90.00% | Test Loss: 0.21750, Test Accuracy: 90.00%\n",
            "Epoch: 500 | Loss: 0.20663, Accuracy: 90.25% | Test Loss: 0.21353, Test Accuracy: 88.50%\n",
            "Epoch: 600 | Loss: 0.20307, Accuracy: 90.62% | Test Loss: 0.21166, Test Accuracy: 87.50%\n",
            "Epoch: 700 | Loss: 0.20121, Accuracy: 90.38% | Test Loss: 0.21090, Test Accuracy: 87.50%\n",
            "Epoch: 800 | Loss: 0.20021, Accuracy: 89.75% | Test Loss: 0.21058, Test Accuracy: 87.50%\n",
            "Epoch: 900 | Loss: 0.19957, Accuracy: 89.62% | Test Loss: 0.21043, Test Accuracy: 87.50%\n"
          ]
        }
      ]
    },
    {
      "cell_type": "code",
      "source": [
        "model_3.eval()\n",
        "with torch.inference_mode():\n",
        "    y_preds = torch.round(torch.sigmoid(model_3(X_test))).squeeze()\n",
        "y_preds[:10], y[:10] # want preds in same format as truth labels"
      ],
      "metadata": {
        "colab": {
          "base_uri": "https://localhost:8080/"
        },
        "id": "CPnlgg8XCvpt",
        "outputId": "cbf7a819-5382-495f-fccf-10299f6abae1"
      },
      "execution_count": 61,
      "outputs": [
        {
          "output_type": "execute_result",
          "data": {
            "text/plain": [
              "(tensor([1., 0., 1., 0., 1., 1., 1., 1., 1., 0.], device='cuda:0'),\n",
              " tensor([1., 1., 1., 1., 0., 1., 1., 1., 1., 0.]))"
            ]
          },
          "metadata": {},
          "execution_count": 61
        }
      ]
    },
    {
      "cell_type": "code",
      "source": [
        "import requests\n",
        "from pathlib import Path\n",
        "\n",
        "if Path(\"helper_functions.py\").is_file():\n",
        "  print(\"helper_functions.py already exists, skipping download\")\n",
        "else:\n",
        "  print(\"Downloading helper_functions.py\")\n",
        "  request = requests.get(\"https://raw.githubusercontent.com/mrdbourke/pytorch-deep-learning/main/helper_functions.py\")\n",
        "  with open(\"helper_functions.py\", \"wb\") as f:\n",
        "    f.write(request.content)\n",
        "\n",
        "from helper_functions import plot_predictions, plot_decision_boundary"
      ],
      "metadata": {
        "colab": {
          "base_uri": "https://localhost:8080/"
        },
        "id": "k3JcjtATDhVQ",
        "outputId": "5eebc6a1-aabf-4401-88a3-83aeb953b98f"
      },
      "execution_count": 62,
      "outputs": [
        {
          "output_type": "stream",
          "name": "stdout",
          "text": [
            "helper_functions.py already exists, skipping download\n"
          ]
        }
      ]
    },
    {
      "cell_type": "code",
      "source": [
        "# Plot decision boundaries for training and test sets\n",
        "plt.figure(figsize=(12, 6))\n",
        "plt.subplot(1, 2, 1)\n",
        "plt.title(\"Train\")\n",
        "plot_decision_boundary(model_3, X_train, y_train) # model_1 = no non-linearity\n",
        "plt.subplot(1, 2, 2)\n",
        "plt.title(\"Test\")\n",
        "plot_decision_boundary(model_3, X_test, y_test) # model_3 = has non-linearity"
      ],
      "metadata": {
        "colab": {
          "base_uri": "https://localhost:8080/",
          "height": 390
        },
        "id": "D2aYDZaIDQIS",
        "outputId": "2222d2ce-bd3b-4873-fe36-3df00de43ee0"
      },
      "execution_count": 63,
      "outputs": [
        {
          "output_type": "display_data",
          "data": {
            "text/plain": [
              "<Figure size 864x432 with 2 Axes>"
            ],
            "image/png": "[encoded data removed]"
          },
          "metadata": {
            "needs_background": "light"
          }
        }
      ]
    },
    {
      "cell_type": "code",
      "source": [
        "# Code for creating a spiral dataset from CS231n\n",
        "import numpy as np\n",
        "N = 100 # number of points per class\n",
        "NUM_FEATURES = 2 # dimensionality\n",
        "NUM_CLASSES = 3 # number of classes\n",
        "X_spiral = np.zeros((N*K,D)) # data matrix (each row = single example)\n",
        "y_spiral = np.zeros(N*K, dtype='uint8') # class labels\n",
        "for j in range(K):\n",
        "  ix = range(N*j,N*(j+1))\n",
        "  r = np.linspace(0.0,1,N) # radius\n",
        "  t = np.linspace(j*4,(j+1)*4,N) + np.random.randn(N)*0.2 # theta\n",
        "  X_spiral[ix] = np.c_[r*np.sin(t), r*np.cos(t)]\n",
        "  y_spiral[ix] = j\n",
        "# lets visualize the data\n",
        "plt.scatter(X_spiral[:, 0], X_spiral[:, 1], c=y, s=40, cmap=plt.cm.Spectral)\n",
        "plt.show()\n"
      ],
      "metadata": {
        "colab": {
          "base_uri": "https://localhost:8080/",
          "height": 728
        },
        "id": "nyt4vUT2DTTQ",
        "outputId": "6af2978a-53ef-4d3c-d19d-c05f29261dd6"
      },
      "execution_count": 67,
      "outputs": [
        {
          "output_type": "error",
          "ename": "ValueError",
          "evalue": "ignored",
          "traceback": [
            "\u001b[0;31m---------------------------------------------------------------------------\u001b[0m",
            "\u001b[0;31mValueError\u001b[0m                                Traceback (most recent call last)",
            "\u001b[0;32m/usr/local/lib/python3.8/dist-packages/matplotlib/axes/_axes.py\u001b[0m in \u001b[0;36m_parse_scatter_color_args\u001b[0;34m(c, edgecolors, kwargs, xsize, get_next_color_func)\u001b[0m\n\u001b[1;32m   4219\u001b[0m             \u001b[0;32mtry\u001b[0m\u001b[0;34m:\u001b[0m  \u001b[0;31m# Is 'c' acceptable as PathCollection facecolors?\u001b[0m\u001b[0;34m\u001b[0m\u001b[0;34m\u001b[0m\u001b[0m\n\u001b[0;32m-> 4220\u001b[0;31m                 \u001b[0mcolors\u001b[0m \u001b[0;34m=\u001b[0m \u001b[0mmcolors\u001b[0m\u001b[0;34m.\u001b[0m\u001b[0mto_rgba_array\u001b[0m\u001b[0;34m(\u001b[0m\u001b[0mc\u001b[0m\u001b[0;34m)\u001b[0m\u001b[0;34m\u001b[0m\u001b[0;34m\u001b[0m\u001b[0m\n\u001b[0m\u001b[1;32m   4221\u001b[0m             \u001b[0;32mexcept\u001b[0m \u001b[0;34m(\u001b[0m\u001b[0mTypeError\u001b[0m\u001b[0;34m,\u001b[0m \u001b[0mValueError\u001b[0m\u001b[0;34m)\u001b[0m \u001b[0;32mas\u001b[0m \u001b[0merr\u001b[0m\u001b[0;34m:\u001b[0m\u001b[0;34m\u001b[0m\u001b[0;34m\u001b[0m\u001b[0m\n",
            "\u001b[0;32m/usr/local/lib/python3.8/dist-packages/matplotlib/colors.py\u001b[0m in \u001b[0;36mto_rgba_array\u001b[0;34m(c, alpha)\u001b[0m\n\u001b[1;32m    376\u001b[0m     \u001b[0;32melse\u001b[0m\u001b[0;34m:\u001b[0m\u001b[0;34m\u001b[0m\u001b[0;34m\u001b[0m\u001b[0m\n\u001b[0;32m--> 377\u001b[0;31m         \u001b[0mrgba\u001b[0m \u001b[0;34m=\u001b[0m \u001b[0mnp\u001b[0m\u001b[0;34m.\u001b[0m\u001b[0marray\u001b[0m\u001b[0;34m(\u001b[0m\u001b[0;34m[\u001b[0m\u001b[0mto_rgba\u001b[0m\u001b[0;34m(\u001b[0m\u001b[0mcc\u001b[0m\u001b[0;34m)\u001b[0m \u001b[0;32mfor\u001b[0m \u001b[0mcc\u001b[0m \u001b[0;32min\u001b[0m \u001b[0mc\u001b[0m\u001b[0;34m]\u001b[0m\u001b[0;34m)\u001b[0m\u001b[0;34m\u001b[0m\u001b[0;34m\u001b[0m\u001b[0m\n\u001b[0m\u001b[1;32m    378\u001b[0m \u001b[0;34m\u001b[0m\u001b[0m\n",
            "\u001b[0;32m/usr/local/lib/python3.8/dist-packages/matplotlib/colors.py\u001b[0m in \u001b[0;36m<listcomp>\u001b[0;34m(.0)\u001b[0m\n\u001b[1;32m    376\u001b[0m     \u001b[0;32melse\u001b[0m\u001b[0;34m:\u001b[0m\u001b[0;34m\u001b[0m\u001b[0;34m\u001b[0m\u001b[0m\n\u001b[0;32m--> 377\u001b[0;31m         \u001b[0mrgba\u001b[0m \u001b[0;34m=\u001b[0m \u001b[0mnp\u001b[0m\u001b[0;34m.\u001b[0m\u001b[0marray\u001b[0m\u001b[0;34m(\u001b[0m\u001b[0;34m[\u001b[0m\u001b[0mto_rgba\u001b[0m\u001b[0;34m(\u001b[0m\u001b[0mcc\u001b[0m\u001b[0;34m)\u001b[0m \u001b[0;32mfor\u001b[0m \u001b[0mcc\u001b[0m \u001b[0;32min\u001b[0m \u001b[0mc\u001b[0m\u001b[0;34m]\u001b[0m\u001b[0;34m)\u001b[0m\u001b[0;34m\u001b[0m\u001b[0;34m\u001b[0m\u001b[0m\n\u001b[0m\u001b[1;32m    378\u001b[0m \u001b[0;34m\u001b[0m\u001b[0m\n",
            "\u001b[0;32m/usr/local/lib/python3.8/dist-packages/matplotlib/colors.py\u001b[0m in \u001b[0;36mto_rgba\u001b[0;34m(c, alpha)\u001b[0m\n\u001b[1;32m    186\u001b[0m     \u001b[0;32mif\u001b[0m \u001b[0mrgba\u001b[0m \u001b[0;32mis\u001b[0m \u001b[0;32mNone\u001b[0m\u001b[0;34m:\u001b[0m  \u001b[0;31m# Suppress exception chaining of cache lookup failure.\u001b[0m\u001b[0;34m\u001b[0m\u001b[0;34m\u001b[0m\u001b[0m\n\u001b[0;32m--> 187\u001b[0;31m         \u001b[0mrgba\u001b[0m \u001b[0;34m=\u001b[0m \u001b[0m_to_rgba_no_colorcycle\u001b[0m\u001b[0;34m(\u001b[0m\u001b[0mc\u001b[0m\u001b[0;34m,\u001b[0m \u001b[0malpha\u001b[0m\u001b[0;34m)\u001b[0m\u001b[0;34m\u001b[0m\u001b[0;34m\u001b[0m\u001b[0m\n\u001b[0m\u001b[1;32m    188\u001b[0m         \u001b[0;32mtry\u001b[0m\u001b[0;34m:\u001b[0m\u001b[0;34m\u001b[0m\u001b[0;34m\u001b[0m\u001b[0m\n",
            "\u001b[0;32m/usr/local/lib/python3.8/dist-packages/matplotlib/colors.py\u001b[0m in \u001b[0;36m_to_rgba_no_colorcycle\u001b[0;34m(c, alpha)\u001b[0m\n\u001b[1;32m    268\u001b[0m     \u001b[0;32mif\u001b[0m \u001b[0;32mnot\u001b[0m \u001b[0mnp\u001b[0m\u001b[0;34m.\u001b[0m\u001b[0miterable\u001b[0m\u001b[0;34m(\u001b[0m\u001b[0mc\u001b[0m\u001b[0;34m)\u001b[0m\u001b[0;34m:\u001b[0m\u001b[0;34m\u001b[0m\u001b[0;34m\u001b[0m\u001b[0m\n\u001b[0;32m--> 269\u001b[0;31m         \u001b[0;32mraise\u001b[0m \u001b[0mValueError\u001b[0m\u001b[0;34m(\u001b[0m\u001b[0;34mf\"Invalid RGBA argument: {orig_c!r}\"\u001b[0m\u001b[0;34m)\u001b[0m\u001b[0;34m\u001b[0m\u001b[0;34m\u001b[0m\u001b[0m\n\u001b[0m\u001b[1;32m    270\u001b[0m     \u001b[0;32mif\u001b[0m \u001b[0mlen\u001b[0m\u001b[0;34m(\u001b[0m\u001b[0mc\u001b[0m\u001b[0;34m)\u001b[0m \u001b[0;32mnot\u001b[0m \u001b[0;32min\u001b[0m \u001b[0;34m[\u001b[0m\u001b[0;36m3\u001b[0m\u001b[0;34m,\u001b[0m \u001b[0;36m4\u001b[0m\u001b[0;34m]\u001b[0m\u001b[0;34m:\u001b[0m\u001b[0;34m\u001b[0m\u001b[0;34m\u001b[0m\u001b[0m\n",
            "\u001b[0;31mValueError\u001b[0m: Invalid RGBA argument: 1.0",
            "\nThe above exception was the direct cause of the following exception:\n",
            "\u001b[0;31mValueError\u001b[0m                                Traceback (most recent call last)",
            "\u001b[0;32m<ipython-input-67-cf976aa3fac4>\u001b[0m in \u001b[0;36m<module>\u001b[0;34m\u001b[0m\n\u001b[1;32m     13\u001b[0m   \u001b[0my_spiral\u001b[0m\u001b[0;34m[\u001b[0m\u001b[0mix\u001b[0m\u001b[0;34m]\u001b[0m \u001b[0;34m=\u001b[0m \u001b[0mj\u001b[0m\u001b[0;34m\u001b[0m\u001b[0;34m\u001b[0m\u001b[0m\n\u001b[1;32m     14\u001b[0m \u001b[0;31m# lets visualize the data\u001b[0m\u001b[0;34m\u001b[0m\u001b[0;34m\u001b[0m\u001b[0;34m\u001b[0m\u001b[0m\n\u001b[0;32m---> 15\u001b[0;31m \u001b[0mplt\u001b[0m\u001b[0;34m.\u001b[0m\u001b[0mscatter\u001b[0m\u001b[0;34m(\u001b[0m\u001b[0mX_spiral\u001b[0m\u001b[0;34m[\u001b[0m\u001b[0;34m:\u001b[0m\u001b[0;34m,\u001b[0m \u001b[0;36m0\u001b[0m\u001b[0;34m]\u001b[0m\u001b[0;34m,\u001b[0m \u001b[0mX_spiral\u001b[0m\u001b[0;34m[\u001b[0m\u001b[0;34m:\u001b[0m\u001b[0;34m,\u001b[0m \u001b[0;36m1\u001b[0m\u001b[0;34m]\u001b[0m\u001b[0;34m,\u001b[0m \u001b[0mc\u001b[0m\u001b[0;34m=\u001b[0m\u001b[0my\u001b[0m\u001b[0;34m,\u001b[0m \u001b[0ms\u001b[0m\u001b[0;34m=\u001b[0m\u001b[0;36m40\u001b[0m\u001b[0;34m,\u001b[0m \u001b[0mcmap\u001b[0m\u001b[0;34m=\u001b[0m\u001b[0mplt\u001b[0m\u001b[0;34m.\u001b[0m\u001b[0mcm\u001b[0m\u001b[0;34m.\u001b[0m\u001b[0mSpectral\u001b[0m\u001b[0;34m)\u001b[0m\u001b[0;34m\u001b[0m\u001b[0;34m\u001b[0m\u001b[0m\n\u001b[0m\u001b[1;32m     16\u001b[0m \u001b[0mplt\u001b[0m\u001b[0;34m.\u001b[0m\u001b[0mshow\u001b[0m\u001b[0;34m(\u001b[0m\u001b[0;34m)\u001b[0m\u001b[0;34m\u001b[0m\u001b[0;34m\u001b[0m\u001b[0m\n",
            "\u001b[0;32m/usr/local/lib/python3.8/dist-packages/matplotlib/pyplot.py\u001b[0m in \u001b[0;36mscatter\u001b[0;34m(x, y, s, c, marker, cmap, norm, vmin, vmax, alpha, linewidths, edgecolors, plotnonfinite, data, **kwargs)\u001b[0m\n\u001b[1;32m   2815\u001b[0m         \u001b[0mvmin\u001b[0m\u001b[0;34m=\u001b[0m\u001b[0;32mNone\u001b[0m\u001b[0;34m,\u001b[0m \u001b[0mvmax\u001b[0m\u001b[0;34m=\u001b[0m\u001b[0;32mNone\u001b[0m\u001b[0;34m,\u001b[0m \u001b[0malpha\u001b[0m\u001b[0;34m=\u001b[0m\u001b[0;32mNone\u001b[0m\u001b[0;34m,\u001b[0m \u001b[0mlinewidths\u001b[0m\u001b[0;34m=\u001b[0m\u001b[0;32mNone\u001b[0m\u001b[0;34m,\u001b[0m \u001b[0;34m*\u001b[0m\u001b[0;34m,\u001b[0m\u001b[0;34m\u001b[0m\u001b[0;34m\u001b[0m\u001b[0m\n\u001b[1;32m   2816\u001b[0m         edgecolors=None, plotnonfinite=False, data=None, **kwargs):\n\u001b[0;32m-> 2817\u001b[0;31m     __ret = gca().scatter(\n\u001b[0m\u001b[1;32m   2818\u001b[0m         \u001b[0mx\u001b[0m\u001b[0;34m,\u001b[0m \u001b[0my\u001b[0m\u001b[0;34m,\u001b[0m \u001b[0ms\u001b[0m\u001b[0;34m=\u001b[0m\u001b[0ms\u001b[0m\u001b[0;34m,\u001b[0m \u001b[0mc\u001b[0m\u001b[0;34m=\u001b[0m\u001b[0mc\u001b[0m\u001b[0;34m,\u001b[0m \u001b[0mmarker\u001b[0m\u001b[0;34m=\u001b[0m\u001b[0mmarker\u001b[0m\u001b[0;34m,\u001b[0m \u001b[0mcmap\u001b[0m\u001b[0;34m=\u001b[0m\u001b[0mcmap\u001b[0m\u001b[0;34m,\u001b[0m \u001b[0mnorm\u001b[0m\u001b[0;34m=\u001b[0m\u001b[0mnorm\u001b[0m\u001b[0;34m,\u001b[0m\u001b[0;34m\u001b[0m\u001b[0;34m\u001b[0m\u001b[0m\n\u001b[1;32m   2819\u001b[0m         \u001b[0mvmin\u001b[0m\u001b[0;34m=\u001b[0m\u001b[0mvmin\u001b[0m\u001b[0;34m,\u001b[0m \u001b[0mvmax\u001b[0m\u001b[0;34m=\u001b[0m\u001b[0mvmax\u001b[0m\u001b[0;34m,\u001b[0m \u001b[0malpha\u001b[0m\u001b[0;34m=\u001b[0m\u001b[0malpha\u001b[0m\u001b[0;34m,\u001b[0m \u001b[0mlinewidths\u001b[0m\u001b[0;34m=\u001b[0m\u001b[0mlinewidths\u001b[0m\u001b[0;34m,\u001b[0m\u001b[0;34m\u001b[0m\u001b[0;34m\u001b[0m\u001b[0m\n",
            "\u001b[0;32m/usr/local/lib/python3.8/dist-packages/matplotlib/__init__.py\u001b[0m in \u001b[0;36minner\u001b[0;34m(ax, data, *args, **kwargs)\u001b[0m\n\u001b[1;32m   1412\u001b[0m     \u001b[0;32mdef\u001b[0m \u001b[0minner\u001b[0m\u001b[0;34m(\u001b[0m\u001b[0max\u001b[0m\u001b[0;34m,\u001b[0m \u001b[0;34m*\u001b[0m\u001b[0margs\u001b[0m\u001b[0;34m,\u001b[0m \u001b[0mdata\u001b[0m\u001b[0;34m=\u001b[0m\u001b[0;32mNone\u001b[0m\u001b[0;34m,\u001b[0m \u001b[0;34m**\u001b[0m\u001b[0mkwargs\u001b[0m\u001b[0;34m)\u001b[0m\u001b[0;34m:\u001b[0m\u001b[0;34m\u001b[0m\u001b[0;34m\u001b[0m\u001b[0m\n\u001b[1;32m   1413\u001b[0m         \u001b[0;32mif\u001b[0m \u001b[0mdata\u001b[0m \u001b[0;32mis\u001b[0m \u001b[0;32mNone\u001b[0m\u001b[0;34m:\u001b[0m\u001b[0;34m\u001b[0m\u001b[0;34m\u001b[0m\u001b[0m\n\u001b[0;32m-> 1414\u001b[0;31m             \u001b[0;32mreturn\u001b[0m \u001b[0mfunc\u001b[0m\u001b[0;34m(\u001b[0m\u001b[0max\u001b[0m\u001b[0;34m,\u001b[0m \u001b[0;34m*\u001b[0m\u001b[0mmap\u001b[0m\u001b[0;34m(\u001b[0m\u001b[0msanitize_sequence\u001b[0m\u001b[0;34m,\u001b[0m \u001b[0margs\u001b[0m\u001b[0;34m)\u001b[0m\u001b[0;34m,\u001b[0m \u001b[0;34m**\u001b[0m\u001b[0mkwargs\u001b[0m\u001b[0;34m)\u001b[0m\u001b[0;34m\u001b[0m\u001b[0;34m\u001b[0m\u001b[0m\n\u001b[0m\u001b[1;32m   1415\u001b[0m \u001b[0;34m\u001b[0m\u001b[0m\n\u001b[1;32m   1416\u001b[0m         \u001b[0mbound\u001b[0m \u001b[0;34m=\u001b[0m \u001b[0mnew_sig\u001b[0m\u001b[0;34m.\u001b[0m\u001b[0mbind\u001b[0m\u001b[0;34m(\u001b[0m\u001b[0max\u001b[0m\u001b[0;34m,\u001b[0m \u001b[0;34m*\u001b[0m\u001b[0margs\u001b[0m\u001b[0;34m,\u001b[0m \u001b[0;34m**\u001b[0m\u001b[0mkwargs\u001b[0m\u001b[0;34m)\u001b[0m\u001b[0;34m\u001b[0m\u001b[0;34m\u001b[0m\u001b[0m\n",
            "\u001b[0;32m/usr/local/lib/python3.8/dist-packages/matplotlib/axes/_axes.py\u001b[0m in \u001b[0;36mscatter\u001b[0;34m(self, x, y, s, c, marker, cmap, norm, vmin, vmax, alpha, linewidths, edgecolors, plotnonfinite, **kwargs)\u001b[0m\n\u001b[1;32m   4384\u001b[0m             \u001b[0morig_edgecolor\u001b[0m \u001b[0;34m=\u001b[0m \u001b[0mkwargs\u001b[0m\u001b[0;34m.\u001b[0m\u001b[0mget\u001b[0m\u001b[0;34m(\u001b[0m\u001b[0;34m'edgecolor'\u001b[0m\u001b[0;34m,\u001b[0m \u001b[0;32mNone\u001b[0m\u001b[0;34m)\u001b[0m\u001b[0;34m\u001b[0m\u001b[0;34m\u001b[0m\u001b[0m\n\u001b[1;32m   4385\u001b[0m         \u001b[0mc\u001b[0m\u001b[0;34m,\u001b[0m \u001b[0mcolors\u001b[0m\u001b[0;34m,\u001b[0m \u001b[0medgecolors\u001b[0m \u001b[0;34m=\u001b[0m\u001b[0;31m \u001b[0m\u001b[0;31m\\\u001b[0m\u001b[0;34m\u001b[0m\u001b[0;34m\u001b[0m\u001b[0m\n\u001b[0;32m-> 4386\u001b[0;31m             self._parse_scatter_color_args(\n\u001b[0m\u001b[1;32m   4387\u001b[0m                 \u001b[0mc\u001b[0m\u001b[0;34m,\u001b[0m \u001b[0medgecolors\u001b[0m\u001b[0;34m,\u001b[0m \u001b[0mkwargs\u001b[0m\u001b[0;34m,\u001b[0m \u001b[0mx\u001b[0m\u001b[0;34m.\u001b[0m\u001b[0msize\u001b[0m\u001b[0;34m,\u001b[0m\u001b[0;34m\u001b[0m\u001b[0;34m\u001b[0m\u001b[0m\n\u001b[1;32m   4388\u001b[0m                 get_next_color_func=self._get_patches_for_fill.get_next_color)\n",
            "\u001b[0;32m/usr/local/lib/python3.8/dist-packages/matplotlib/axes/_axes.py\u001b[0m in \u001b[0;36m_parse_scatter_color_args\u001b[0;34m(c, edgecolors, kwargs, xsize, get_next_color_func)\u001b[0m\n\u001b[1;32m   4224\u001b[0m                 \u001b[0;32melse\u001b[0m\u001b[0;34m:\u001b[0m\u001b[0;34m\u001b[0m\u001b[0;34m\u001b[0m\u001b[0m\n\u001b[1;32m   4225\u001b[0m                     \u001b[0;32mif\u001b[0m \u001b[0;32mnot\u001b[0m \u001b[0mvalid_shape\u001b[0m\u001b[0;34m:\u001b[0m\u001b[0;34m\u001b[0m\u001b[0;34m\u001b[0m\u001b[0m\n\u001b[0;32m-> 4226\u001b[0;31m                         \u001b[0;32mraise\u001b[0m \u001b[0minvalid_shape_exception\u001b[0m\u001b[0;34m(\u001b[0m\u001b[0mc\u001b[0m\u001b[0;34m.\u001b[0m\u001b[0msize\u001b[0m\u001b[0;34m,\u001b[0m \u001b[0mxsize\u001b[0m\u001b[0;34m)\u001b[0m \u001b[0;32mfrom\u001b[0m \u001b[0merr\u001b[0m\u001b[0;34m\u001b[0m\u001b[0;34m\u001b[0m\u001b[0m\n\u001b[0m\u001b[1;32m   4227\u001b[0m                     \u001b[0;31m# Both the mapping *and* the RGBA conversion failed: pretty\u001b[0m\u001b[0;34m\u001b[0m\u001b[0;34m\u001b[0m\u001b[0;34m\u001b[0m\u001b[0m\n\u001b[1;32m   4228\u001b[0m                     \u001b[0;31m# severe failure => one may appreciate a verbose feedback.\u001b[0m\u001b[0;34m\u001b[0m\u001b[0;34m\u001b[0m\u001b[0;34m\u001b[0m\u001b[0m\n",
            "\u001b[0;31mValueError\u001b[0m: 'c' argument has 1000 elements, which is inconsistent with 'x' and 'y' with size 300."
          ]
        },
        {
          "output_type": "display_data",
          "data": {
            "text/plain": [
              "<Figure size 432x288 with 1 Axes>"
            ],
            "image/png": "[encoded data removed]"
          },
          "metadata": {
            "needs_background": "light"
          }
        }
      ]
    },
    {
      "cell_type": "code",
      "source": [
        "# 2. Turn data into tensors\n",
        "X_spiral = torch.from_numpy(X_spiral).type(torch.float)\n",
        "y_spiral = torch.from_numpy(y_spiral).type(torch.LongTensor)\n",
        "print(X_spiral[:5], y_blob[:5])"
      ],
      "metadata": {
        "colab": {
          "base_uri": "https://localhost:8080/"
        },
        "id": "Zj4EjIXRGERz",
        "outputId": "e409f625-2f8a-48b2-d450-0dd82114eb21"
      },
      "execution_count": 68,
      "outputs": [
        {
          "output_type": "stream",
          "name": "stdout",
          "text": [
            "tensor([[-0.0000e+00,  0.0000e+00],\n",
            "        [-8.8819e-05,  1.0101e-02],\n",
            "        [-4.4979e-04,  2.0197e-02],\n",
            "        [ 5.0545e-04,  3.0299e-02],\n",
            "        [ 1.8925e-02,  3.5698e-02]]) [0 0 0 0 0]\n"
          ]
        }
      ]
    },
    {
      "cell_type": "code",
      "source": [
        "# 3. Split into train and test sets\n",
        "X_spiral_train, X_spiral_test, y_spiral_train, y_spiral_test = train_test_split(X_spiral,\n",
        "    y_spiral,\n",
        "    test_size=0.2,\n",
        "    random_state=42\n",
        ")"
      ],
      "metadata": {
        "id": "j1MbkB5FHME9"
      },
      "execution_count": 69,
      "outputs": []
    },
    {
      "cell_type": "code",
      "source": [
        "# 4. Plot data\n",
        "plt.figure(figsize=(10, 7))\n",
        "plt.scatter(X_spiral[:, 0], X_spiral[:, 1], c=y_spiral, cmap=plt.cm.RdYlBu);"
      ],
      "metadata": {
        "colab": {
          "base_uri": "https://localhost:8080/",
          "height": 429
        },
        "id": "DtNP0ujrHZl1",
        "outputId": "bd40f63e-3565-4aa4-a143-733356d59000"
      },
      "execution_count": 70,
      "outputs": [
        {
          "output_type": "display_data",
          "data": {
            "text/plain": [
              "<Figure size 720x504 with 1 Axes>"
            ],
            "image/png": "[encoded data removed]"
          },
          "metadata": {
            "needs_background": "light"
          }
        }
      ]
    },
    {
      "cell_type": "code",
      "source": [
        "# Create device agnostic code\n",
        "device = \"cuda\" if torch.cuda.is_available() else \"cpu\"\n",
        "device"
      ],
      "metadata": {
        "colab": {
          "base_uri": "https://localhost:8080/",
          "height": 36
        },
        "id": "RkgJit0PHmfo",
        "outputId": "d8c2d015-768a-4e73-f17c-1449c60cf202"
      },
      "execution_count": 71,
      "outputs": [
        {
          "output_type": "execute_result",
          "data": {
            "text/plain": [
              "'cuda'"
            ],
            "application/vnd.google.colaboratory.intrinsic+json": {
              "type": "string"
            }
          },
          "metadata": {},
          "execution_count": 71
        }
      ]
    },
    {
      "cell_type": "code",
      "source": [
        "from torch import nn\n",
        "\n",
        "# Build model\n",
        "class SpiralModel(nn.Module):\n",
        "    def __init__(self, input_features, output_features, hidden_units=8):\n",
        "        \"\"\"Initializes all required hyperparameters for a multi-class classification model.\n",
        "\n",
        "        Args:\n",
        "            input_features (int): Number of input features to the model.\n",
        "            out_features (int): Number of output features of the model\n",
        "              (how many classes there are).\n",
        "            hidden_units (int): Number of hidden units between layers, default 8.\n",
        "        \"\"\"\n",
        "        super().__init__()\n",
        "        self.linear_layer_stack = nn.Sequential(\n",
        "            nn.Linear(in_features=input_features, out_features=hidden_units),\n",
        "            nn.ReLU(), # <- does our dataset require non-linear layers? (try uncommenting and see if the results change)\n",
        "            nn.Linear(in_features=hidden_units, out_features=hidden_units),\n",
        "            nn.ReLU(), # <- does our dataset require non-linear layers? (try uncommenting and see if the results change)\n",
        "            nn.Linear(in_features=hidden_units, out_features=output_features), # how many classes are there?\n",
        "        )\n",
        "    \n",
        "    def forward(self, x):\n",
        "        return self.linear_layer_stack(x)\n",
        "\n",
        "# Create an instance of BlobModel and send it to the target device\n",
        "model_4 = SpiralModel(input_features=NUM_FEATURES, \n",
        "                    output_features=NUM_CLASSES, \n",
        "                    hidden_units=8).to(device)\n",
        "model_4"
      ],
      "metadata": {
        "colab": {
          "base_uri": "https://localhost:8080/"
        },
        "id": "XYz3O57NHsf7",
        "outputId": "72d33077-c2e5-4a06-ecf7-247c2b86d6ed"
      },
      "execution_count": 72,
      "outputs": [
        {
          "output_type": "execute_result",
          "data": {
            "text/plain": [
              "SpiralModel(\n",
              "  (linear_layer_stack): Sequential(\n",
              "    (0): Linear(in_features=2, out_features=8, bias=True)\n",
              "    (1): ReLU()\n",
              "    (2): Linear(in_features=8, out_features=8, bias=True)\n",
              "    (3): ReLU()\n",
              "    (4): Linear(in_features=8, out_features=3, bias=True)\n",
              "  )\n",
              ")"
            ]
          },
          "metadata": {},
          "execution_count": 72
        }
      ]
    },
    {
      "cell_type": "code",
      "source": [
        "# Create loss and optimizer\n",
        "loss_fn = nn.CrossEntropyLoss()\n",
        "optimizer = torch.optim.SGD(model_4.parameters(), \n",
        "                            lr=0.1)"
      ],
      "metadata": {
        "id": "nb2A3M6qIL3p"
      },
      "execution_count": 73,
      "outputs": []
    },
    {
      "cell_type": "code",
      "source": [
        "# Perform a single forward pass on the data (we'll need to put it to the target device for it to work)\n",
        "model_4(X_spiral_train.to(device))[:5]"
      ],
      "metadata": {
        "colab": {
          "base_uri": "https://localhost:8080/"
        },
        "id": "iYiwLq1LIQCJ",
        "outputId": "20983aee-aa45-4df6-fbcc-8263488e7e3a"
      },
      "execution_count": 74,
      "outputs": [
        {
          "output_type": "execute_result",
          "data": {
            "text/plain": [
              "tensor([[-0.0585, -0.3534, -0.2101],\n",
              "        [-0.0812, -0.3456, -0.2427],\n",
              "        [-0.0720, -0.3838, -0.2498],\n",
              "        [-0.2076, -0.3711, -0.4347],\n",
              "        [-0.1344, -0.4210, -0.3537]], device='cuda:0',\n",
              "       grad_fn=<SliceBackward0>)"
            ]
          },
          "metadata": {},
          "execution_count": 74
        }
      ]
    },
    {
      "cell_type": "code",
      "source": [
        "# How many elements in a single prediction sample?\n",
        "model_4(X_spiral_train.to(device))[0].shape, NUM_CLASSES"
      ],
      "metadata": {
        "colab": {
          "base_uri": "https://localhost:8080/"
        },
        "id": "WATDzJvqIULE",
        "outputId": "124b8858-3a79-49ff-dcf5-724697fb69ec"
      },
      "execution_count": 75,
      "outputs": [
        {
          "output_type": "execute_result",
          "data": {
            "text/plain": [
              "(torch.Size([3]), 3)"
            ]
          },
          "metadata": {},
          "execution_count": 75
        }
      ]
    },
    {
      "cell_type": "code",
      "source": [
        "# Make prediction logits with model\n",
        "y_logits = model_4(X_spiral_test.to(device))\n",
        "\n",
        "# Perform softmax calculation on logits across dimension 1 to get prediction probabilities\n",
        "y_pred_probs = torch.softmax(y_logits, dim=1) \n",
        "print(y_logits[:5])\n",
        "print(y_pred_probs[:5])"
      ],
      "metadata": {
        "colab": {
          "base_uri": "https://localhost:8080/"
        },
        "id": "fJl4OMUWIZkR",
        "outputId": "e901ce92-8564-41b6-e1c2-07b4ef19819b"
      },
      "execution_count": 76,
      "outputs": [
        {
          "output_type": "stream",
          "name": "stdout",
          "text": [
            "tensor([[-0.0736, -0.3835, -0.2462],\n",
            "        [-0.0519, -0.3174, -0.1943],\n",
            "        [-0.0883, -0.4183, -0.2966],\n",
            "        [-0.0746, -0.3885, -0.2543],\n",
            "        [-0.0720, -0.3515, -0.2304]], device='cuda:0',\n",
            "       grad_fn=<SliceBackward0>)\n",
            "tensor([[0.3884, 0.2849, 0.3268],\n",
            "        [0.3796, 0.2911, 0.3293],\n",
            "        [0.3951, 0.2841, 0.3208],\n",
            "        [0.3897, 0.2847, 0.3256],\n",
            "        [0.3832, 0.2897, 0.3271]], device='cuda:0', grad_fn=<SliceBackward0>)\n"
          ]
        }
      ]
    },
    {
      "cell_type": "code",
      "source": [
        "# Sum the first sample output of the softmax activation function \n",
        "torch.sum(y_pred_probs[0])"
      ],
      "metadata": {
        "colab": {
          "base_uri": "https://localhost:8080/"
        },
        "id": "moruEHDjIfbh",
        "outputId": "d1ffad3e-ae87-4181-89fd-6ee8916c2871"
      },
      "execution_count": 77,
      "outputs": [
        {
          "output_type": "execute_result",
          "data": {
            "text/plain": [
              "tensor(1.0000, device='cuda:0', grad_fn=<SumBackward0>)"
            ]
          },
          "metadata": {},
          "execution_count": 77
        }
      ]
    },
    {
      "cell_type": "code",
      "source": [
        "# Which class does the model think is *most* likely at the index 0 sample?\n",
        "print(y_pred_probs[0])\n",
        "print(torch.argmax(y_pred_probs[0]))"
      ],
      "metadata": {
        "colab": {
          "base_uri": "https://localhost:8080/"
        },
        "id": "mr29MJb9Ii9h",
        "outputId": "5ac06bc3-56fa-42bf-a2ef-eec1f6c19bb9"
      },
      "execution_count": 78,
      "outputs": [
        {
          "output_type": "stream",
          "name": "stdout",
          "text": [
            "tensor([0.3884, 0.2849, 0.3268], device='cuda:0', grad_fn=<SelectBackward0>)\n",
            "tensor(0, device='cuda:0')\n"
          ]
        }
      ]
    },
    {
      "cell_type": "code",
      "source": [
        "# Fit the model\n",
        "torch.manual_seed(42)\n",
        "\n",
        "# Set number of epochs\n",
        "epochs = 1000\n",
        "\n",
        "# Put data to target device\n",
        "X_spiral_train, y_spiral_train = X_spiral_train.to(device), y_spiral_train.to(device)\n",
        "X_spiral_test, y_spiral_test = X_spiral_test.to(device), y_spiral_test.to(device)\n",
        "\n",
        "for epoch in range(epochs):\n",
        "    ### Training\n",
        "    model_4.train()\n",
        "\n",
        "    # 1. Forward pass\n",
        "    y_logits = model_4(X_spiral_train) # model outputs raw logits \n",
        "    y_pred = torch.softmax(y_logits, dim=1).argmax(dim=1) # go from logits -> prediction probabilities -> prediction labels\n",
        "    # print(y_logits)\n",
        "    # 2. Calculate loss and accuracy\n",
        "    loss = loss_fn(y_logits, y_spiral_train) \n",
        "    acc = accuracy_fn(y_true=y_spiral_train,\n",
        "                      y_pred=y_pred)\n",
        "\n",
        "    # 3. Optimizer zero grad\n",
        "    optimizer.zero_grad()\n",
        "\n",
        "    # 4. Loss backwards\n",
        "    loss.backward()\n",
        "\n",
        "    # 5. Optimizer step\n",
        "    optimizer.step()\n",
        "\n",
        "    ### Testing\n",
        "    model_4.eval()\n",
        "    with torch.inference_mode():\n",
        "      # 1. Forward pass\n",
        "      test_logits = model_4(X_spiral_test)\n",
        "      test_pred = torch.softmax(test_logits, dim=1).argmax(dim=1)\n",
        "      # 2. Calculate test loss and accuracy\n",
        "      test_loss = loss_fn(test_logits, y_spiral_test)\n",
        "      test_acc = accuracy_fn(y_true=y_spiral_test,\n",
        "                             y_pred=test_pred)\n",
        "\n",
        "    # Print out what's happening\n",
        "    if epoch % 10 == 0:\n",
        "        print(f\"Epoch: {epoch} | Loss: {loss:.5f}, Acc: {acc:.2f}% | Test Loss: {test_loss:.5f}, Test Acc: {test_acc:.2f}%\")"
      ],
      "metadata": {
        "colab": {
          "base_uri": "https://localhost:8080/"
        },
        "id": "qKH6PbUHImbR",
        "outputId": "2a1181f7-73bd-46e2-b22f-85b2c2162554"
      },
      "execution_count": 79,
      "outputs": [
        {
          "output_type": "stream",
          "name": "stdout",
          "text": [
            "Epoch: 0 | Loss: 1.10334, Acc: 32.50% | Test Loss: 1.08783, Test Acc: 36.67%\n",
            "Epoch: 10 | Loss: 1.09006, Acc: 37.50% | Test Loss: 1.08495, Test Acc: 40.00%\n",
            "Epoch: 20 | Loss: 1.08150, Acc: 38.33% | Test Loss: 1.08280, Test Acc: 38.33%\n",
            "Epoch: 30 | Loss: 1.07419, Acc: 41.67% | Test Loss: 1.07975, Test Acc: 43.33%\n",
            "Epoch: 40 | Loss: 1.06710, Acc: 47.08% | Test Loss: 1.07533, Test Acc: 35.00%\n",
            "Epoch: 50 | Loss: 1.05918, Acc: 50.42% | Test Loss: 1.06950, Test Acc: 35.00%\n",
            "Epoch: 60 | Loss: 1.05014, Acc: 50.42% | Test Loss: 1.06231, Test Acc: 35.00%\n",
            "Epoch: 70 | Loss: 1.03943, Acc: 51.67% | Test Loss: 1.05329, Test Acc: 33.33%\n",
            "Epoch: 80 | Loss: 1.02688, Acc: 54.17% | Test Loss: 1.04204, Test Acc: 31.67%\n",
            "Epoch: 90 | Loss: 1.00988, Acc: 55.83% | Test Loss: 1.02826, Test Acc: 35.00%\n",
            "Epoch: 100 | Loss: 0.98820, Acc: 55.83% | Test Loss: 1.01359, Test Acc: 36.67%\n",
            "Epoch: 110 | Loss: 0.96813, Acc: 57.08% | Test Loss: 0.99734, Test Acc: 36.67%\n",
            "Epoch: 120 | Loss: 0.94875, Acc: 55.42% | Test Loss: 0.98212, Test Acc: 33.33%\n",
            "Epoch: 130 | Loss: 0.93030, Acc: 53.33% | Test Loss: 0.96693, Test Acc: 35.00%\n",
            "Epoch: 140 | Loss: 0.91296, Acc: 52.50% | Test Loss: 0.95262, Test Acc: 35.00%\n",
            "Epoch: 150 | Loss: 0.89654, Acc: 53.33% | Test Loss: 0.93906, Test Acc: 38.33%\n",
            "Epoch: 160 | Loss: 0.88109, Acc: 53.75% | Test Loss: 0.92614, Test Acc: 38.33%\n",
            "Epoch: 170 | Loss: 0.86643, Acc: 55.00% | Test Loss: 0.91352, Test Acc: 38.33%\n",
            "Epoch: 180 | Loss: 0.85230, Acc: 55.83% | Test Loss: 0.90157, Test Acc: 43.33%\n",
            "Epoch: 190 | Loss: 0.83853, Acc: 57.50% | Test Loss: 0.89012, Test Acc: 45.00%\n",
            "Epoch: 200 | Loss: 0.82501, Acc: 59.17% | Test Loss: 0.87891, Test Acc: 46.67%\n",
            "Epoch: 210 | Loss: 0.81169, Acc: 59.58% | Test Loss: 0.86808, Test Acc: 46.67%\n",
            "Epoch: 220 | Loss: 0.79839, Acc: 59.58% | Test Loss: 0.85721, Test Acc: 46.67%\n",
            "Epoch: 230 | Loss: 0.78531, Acc: 59.17% | Test Loss: 0.84637, Test Acc: 46.67%\n",
            "Epoch: 240 | Loss: 0.77236, Acc: 59.58% | Test Loss: 0.83565, Test Acc: 48.33%\n",
            "Epoch: 250 | Loss: 0.75956, Acc: 58.75% | Test Loss: 0.82489, Test Acc: 46.67%\n",
            "Epoch: 260 | Loss: 0.74734, Acc: 58.33% | Test Loss: 0.81441, Test Acc: 45.00%\n",
            "Epoch: 270 | Loss: 0.73594, Acc: 58.75% | Test Loss: 0.80455, Test Acc: 45.00%\n",
            "Epoch: 280 | Loss: 0.72548, Acc: 58.75% | Test Loss: 0.79573, Test Acc: 46.67%\n",
            "Epoch: 290 | Loss: 0.71599, Acc: 60.00% | Test Loss: 0.78752, Test Acc: 48.33%\n",
            "Epoch: 300 | Loss: 0.70738, Acc: 59.58% | Test Loss: 0.78020, Test Acc: 45.00%\n",
            "Epoch: 310 | Loss: 0.69958, Acc: 59.17% | Test Loss: 0.77362, Test Acc: 45.00%\n",
            "Epoch: 320 | Loss: 0.69247, Acc: 60.42% | Test Loss: 0.76805, Test Acc: 45.00%\n",
            "Epoch: 330 | Loss: 0.68596, Acc: 60.00% | Test Loss: 0.76272, Test Acc: 46.67%\n",
            "Epoch: 340 | Loss: 0.67991, Acc: 59.58% | Test Loss: 0.75780, Test Acc: 46.67%\n",
            "Epoch: 350 | Loss: 0.67429, Acc: 59.58% | Test Loss: 0.75307, Test Acc: 46.67%\n",
            "Epoch: 360 | Loss: 0.66896, Acc: 59.58% | Test Loss: 0.74838, Test Acc: 48.33%\n",
            "Epoch: 370 | Loss: 0.66383, Acc: 59.58% | Test Loss: 0.74430, Test Acc: 46.67%\n",
            "Epoch: 380 | Loss: 0.65894, Acc: 59.58% | Test Loss: 0.74034, Test Acc: 48.33%\n",
            "Epoch: 390 | Loss: 0.65415, Acc: 59.17% | Test Loss: 0.73648, Test Acc: 48.33%\n",
            "Epoch: 400 | Loss: 0.64940, Acc: 59.17% | Test Loss: 0.73218, Test Acc: 48.33%\n",
            "Epoch: 410 | Loss: 0.64465, Acc: 59.17% | Test Loss: 0.72779, Test Acc: 48.33%\n",
            "Epoch: 420 | Loss: 0.63991, Acc: 59.58% | Test Loss: 0.72331, Test Acc: 48.33%\n",
            "Epoch: 430 | Loss: 0.63516, Acc: 59.58% | Test Loss: 0.71887, Test Acc: 50.00%\n",
            "Epoch: 440 | Loss: 0.63044, Acc: 59.58% | Test Loss: 0.71434, Test Acc: 50.00%\n",
            "Epoch: 450 | Loss: 0.62569, Acc: 61.25% | Test Loss: 0.70986, Test Acc: 50.00%\n",
            "Epoch: 460 | Loss: 0.62093, Acc: 61.25% | Test Loss: 0.70537, Test Acc: 50.00%\n",
            "Epoch: 470 | Loss: 0.61618, Acc: 61.25% | Test Loss: 0.70075, Test Acc: 50.00%\n",
            "Epoch: 480 | Loss: 0.61150, Acc: 61.25% | Test Loss: 0.69618, Test Acc: 50.00%\n",
            "Epoch: 490 | Loss: 0.60684, Acc: 61.67% | Test Loss: 0.69141, Test Acc: 50.00%\n",
            "Epoch: 500 | Loss: 0.60210, Acc: 62.08% | Test Loss: 0.68670, Test Acc: 50.00%\n",
            "Epoch: 510 | Loss: 0.59736, Acc: 62.50% | Test Loss: 0.68185, Test Acc: 50.00%\n",
            "Epoch: 520 | Loss: 0.59267, Acc: 63.75% | Test Loss: 0.67724, Test Acc: 50.00%\n",
            "Epoch: 530 | Loss: 0.58801, Acc: 65.00% | Test Loss: 0.67226, Test Acc: 50.00%\n",
            "Epoch: 540 | Loss: 0.58336, Acc: 65.00% | Test Loss: 0.66719, Test Acc: 50.00%\n",
            "Epoch: 550 | Loss: 0.57869, Acc: 65.42% | Test Loss: 0.66207, Test Acc: 50.00%\n",
            "Epoch: 560 | Loss: 0.57406, Acc: 65.42% | Test Loss: 0.65707, Test Acc: 53.33%\n",
            "Epoch: 570 | Loss: 0.56943, Acc: 65.83% | Test Loss: 0.65182, Test Acc: 55.00%\n",
            "Epoch: 580 | Loss: 0.56481, Acc: 66.67% | Test Loss: 0.64644, Test Acc: 55.00%\n",
            "Epoch: 590 | Loss: 0.56020, Acc: 67.08% | Test Loss: 0.64104, Test Acc: 58.33%\n",
            "Epoch: 600 | Loss: 0.55559, Acc: 67.08% | Test Loss: 0.63543, Test Acc: 58.33%\n",
            "Epoch: 610 | Loss: 0.55101, Acc: 67.92% | Test Loss: 0.63012, Test Acc: 60.00%\n",
            "Epoch: 620 | Loss: 0.54650, Acc: 68.33% | Test Loss: 0.62492, Test Acc: 61.67%\n",
            "Epoch: 630 | Loss: 0.54202, Acc: 69.17% | Test Loss: 0.61959, Test Acc: 61.67%\n",
            "Epoch: 640 | Loss: 0.53757, Acc: 70.42% | Test Loss: 0.61427, Test Acc: 61.67%\n",
            "Epoch: 650 | Loss: 0.53315, Acc: 70.42% | Test Loss: 0.60901, Test Acc: 61.67%\n",
            "Epoch: 660 | Loss: 0.52878, Acc: 71.25% | Test Loss: 0.60385, Test Acc: 61.67%\n",
            "Epoch: 670 | Loss: 0.52446, Acc: 71.67% | Test Loss: 0.59837, Test Acc: 61.67%\n",
            "Epoch: 680 | Loss: 0.52018, Acc: 72.92% | Test Loss: 0.59354, Test Acc: 61.67%\n",
            "Epoch: 690 | Loss: 0.51595, Acc: 73.75% | Test Loss: 0.58854, Test Acc: 63.33%\n",
            "Epoch: 700 | Loss: 0.51175, Acc: 73.75% | Test Loss: 0.58346, Test Acc: 66.67%\n",
            "Epoch: 710 | Loss: 0.50758, Acc: 73.75% | Test Loss: 0.57829, Test Acc: 68.33%\n",
            "Epoch: 720 | Loss: 0.50345, Acc: 73.33% | Test Loss: 0.57312, Test Acc: 68.33%\n",
            "Epoch: 730 | Loss: 0.49937, Acc: 74.17% | Test Loss: 0.56807, Test Acc: 68.33%\n",
            "Epoch: 740 | Loss: 0.49534, Acc: 74.17% | Test Loss: 0.56343, Test Acc: 70.00%\n",
            "Epoch: 750 | Loss: 0.49136, Acc: 74.17% | Test Loss: 0.55850, Test Acc: 70.00%\n",
            "Epoch: 760 | Loss: 0.48743, Acc: 75.00% | Test Loss: 0.55369, Test Acc: 70.00%\n",
            "Epoch: 770 | Loss: 0.48355, Acc: 75.00% | Test Loss: 0.54888, Test Acc: 70.00%\n",
            "Epoch: 780 | Loss: 0.47973, Acc: 75.00% | Test Loss: 0.54431, Test Acc: 68.33%\n",
            "Epoch: 790 | Loss: 0.47597, Acc: 75.42% | Test Loss: 0.53998, Test Acc: 68.33%\n",
            "Epoch: 800 | Loss: 0.47226, Acc: 75.42% | Test Loss: 0.53529, Test Acc: 70.00%\n",
            "Epoch: 810 | Loss: 0.46860, Acc: 75.83% | Test Loss: 0.53085, Test Acc: 71.67%\n",
            "Epoch: 820 | Loss: 0.46500, Acc: 75.83% | Test Loss: 0.52645, Test Acc: 73.33%\n",
            "Epoch: 830 | Loss: 0.46145, Acc: 75.83% | Test Loss: 0.52228, Test Acc: 73.33%\n",
            "Epoch: 840 | Loss: 0.45797, Acc: 75.83% | Test Loss: 0.51790, Test Acc: 73.33%\n",
            "Epoch: 850 | Loss: 0.45453, Acc: 75.83% | Test Loss: 0.51385, Test Acc: 73.33%\n",
            "Epoch: 860 | Loss: 0.45116, Acc: 76.25% | Test Loss: 0.50938, Test Acc: 73.33%\n",
            "Epoch: 870 | Loss: 0.44784, Acc: 76.25% | Test Loss: 0.50533, Test Acc: 73.33%\n",
            "Epoch: 880 | Loss: 0.44458, Acc: 77.50% | Test Loss: 0.50125, Test Acc: 73.33%\n",
            "Epoch: 890 | Loss: 0.44136, Acc: 77.92% | Test Loss: 0.49711, Test Acc: 73.33%\n",
            "Epoch: 900 | Loss: 0.43818, Acc: 77.92% | Test Loss: 0.49261, Test Acc: 73.33%\n",
            "Epoch: 910 | Loss: 0.43504, Acc: 77.92% | Test Loss: 0.48825, Test Acc: 73.33%\n",
            "Epoch: 920 | Loss: 0.43192, Acc: 77.92% | Test Loss: 0.48351, Test Acc: 73.33%\n",
            "Epoch: 930 | Loss: 0.42885, Acc: 77.92% | Test Loss: 0.47912, Test Acc: 73.33%\n",
            "Epoch: 940 | Loss: 0.42581, Acc: 78.75% | Test Loss: 0.47455, Test Acc: 73.33%\n",
            "Epoch: 950 | Loss: 0.42280, Acc: 79.58% | Test Loss: 0.46978, Test Acc: 73.33%\n",
            "Epoch: 960 | Loss: 0.41983, Acc: 79.58% | Test Loss: 0.46587, Test Acc: 73.33%\n",
            "Epoch: 970 | Loss: 0.41690, Acc: 80.00% | Test Loss: 0.46095, Test Acc: 73.33%\n",
            "Epoch: 980 | Loss: 0.41402, Acc: 80.00% | Test Loss: 0.45760, Test Acc: 73.33%\n",
            "Epoch: 990 | Loss: 0.41119, Acc: 80.00% | Test Loss: 0.45355, Test Acc: 73.33%\n"
          ]
        }
      ]
    },
    {
      "cell_type": "code",
      "source": [],
      "metadata": {
        "id": "RS1Z8CfYJT7W"
      },
      "execution_count": 79,
      "outputs": []
    }
  ]
}