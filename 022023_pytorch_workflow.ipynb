{
  "nbformat": 4,
  "nbformat_minor": 0,
  "metadata": {
    "colab": {
      "provenance": [],
      "authorship_tag": "ABX9TyMne04vflPjNVkUQZeRxPcl",
      "include_colab_link": true
    },
    "kernelspec": {
      "name": "python3",
      "display_name": "Python 3"
    },
    "language_info": {
      "name": "python"
    }
  },
  "cells": [
    {
      "cell_type": "markdown",
      "metadata": {
        "id": "view-in-github",
        "colab_type": "text"
      },
      "source": [
        "<a href=\"https://colab.research.google.com/github/julio4development/pytorch1/blob/main/022023_pytorch_workflow.ipynb\" target=\"_parent\"><img src=\"https://colab.research.google.com/assets/colab-badge.svg\" alt=\"Open In Colab\"/></a>"
      ]
    },
    {
      "cell_type": "code",
      "execution_count": null,
      "metadata": {
        "id": "9HU7XbdvJaSI"
      },
      "outputs": [],
      "source": [
        "import torch\n",
        "from torch import nn\n",
        "import matplotlib.pyplot as plt"
      ]
    },
    {
      "cell_type": "code",
      "source": [
        "# For learning purposes, in this initial exercise\n",
        "# we will know how the ideal model should be (a linear regression formula)\n",
        "# output = weight * INPUT + bias\n",
        "\n",
        "# and the initial parameters of that formula (we could have chosen others)\n",
        "# weight = 0.7, bias = 0.3\n",
        "\n",
        "weight = 0.7\n",
        "bias = 0.3\n",
        "\n",
        "# X es input data, y es output data\n",
        "X = torch.arange(0, 1, 0.02).unsqueeze(dim=1) # añadimos una dimensión\n",
        "y = weight * X + bias"
      ],
      "metadata": {
        "id": "wR8EBYbMG0Rk"
      },
      "execution_count": null,
      "outputs": []
    },
    {
      "cell_type": "code",
      "source": [
        "# Veamos los 10 primeros elementos de X (input data)\n",
        "X[:10]"
      ],
      "metadata": {
        "colab": {
          "base_uri": "https://localhost:8080/"
        },
        "id": "j8_IqR4TI7yV",
        "outputId": "a9782e6b-a4cd-44f1-afb8-d478506a97e5"
      },
      "execution_count": null,
      "outputs": [
        {
          "output_type": "execute_result",
          "data": {
            "text/plain": [
              "tensor([[0.0000],\n",
              "        [0.0200],\n",
              "        [0.0400],\n",
              "        [0.0600],\n",
              "        [0.0800],\n",
              "        [0.1000],\n",
              "        [0.1200],\n",
              "        [0.1400],\n",
              "        [0.1600],\n",
              "        [0.1800]])"
            ]
          },
          "metadata": {},
          "execution_count": 38
        }
      ]
    },
    {
      "cell_type": "code",
      "source": [
        "# Veamos los 10 primeros elementos de y (output data)\n",
        "y[:10]"
      ],
      "metadata": {
        "colab": {
          "base_uri": "https://localhost:8080/"
        },
        "id": "9xGIc157KmIh",
        "outputId": "ba86c780-5fc7-4a20-856e-6765d2d7f29b"
      },
      "execution_count": null,
      "outputs": [
        {
          "output_type": "execute_result",
          "data": {
            "text/plain": [
              "tensor([[0.3000],\n",
              "        [0.3140],\n",
              "        [0.3280],\n",
              "        [0.3420],\n",
              "        [0.3560],\n",
              "        [0.3700],\n",
              "        [0.3840],\n",
              "        [0.3980],\n",
              "        [0.4120],\n",
              "        [0.4260]])"
            ]
          },
          "metadata": {},
          "execution_count": 39
        }
      ]
    },
    {
      "cell_type": "code",
      "source": [
        "# The purpose of this exercise\n",
        "# is to build a model in pytorch\n",
        "# that can learn the relationship between X and y\n",
        "# and thus can predict how y will be for a given X"
      ],
      "metadata": {
        "id": "ZwKDTD9-KwjX"
      },
      "execution_count": null,
      "outputs": []
    },
    {
      "cell_type": "code",
      "source": [
        "# First, we are going to split the input and output data in\n",
        "# training dataset (the model learns from this data)\n",
        "# and testing dataset (the model gets evaluated on this data)\n",
        "\n",
        "# We will not use validation dataset (the model gets tuned on this data) \n",
        "# in this exercise"
      ],
      "metadata": {
        "id": "YyPnFttSLDB0"
      },
      "execution_count": null,
      "outputs": []
    },
    {
      "cell_type": "code",
      "source": [
        "# Splitting the X and y datasets\n",
        "train_split = int(0.8 * len(X)) # 80% de los datos irán al training dataset\n",
        "\n",
        "X_train = X[:train_split]\n",
        "y_train = y[:train_split]\n",
        "\n",
        "X_test = X[train_split:]\n",
        "y_test = y[train_split:]"
      ],
      "metadata": {
        "id": "-QMFYENQLpSk"
      },
      "execution_count": null,
      "outputs": []
    },
    {
      "cell_type": "code",
      "source": [
        "# Visualization of the initial data\n",
        "def plot_predictions(train_data=X_train,\n",
        "                     train_labels=y_train,\n",
        "                     test_data=X_test,\n",
        "                     test_labels=y_test,\n",
        "                     predictions=None):\n",
        "  plt.figure(figsize=(10,7))\n",
        "  plt.scatter(train_data, train_labels, c=\"b\", s=4, label=\"Training data\")\n",
        "  plt.scatter(test_data, test_labels, c=\"g\", s=4, label=\"Testing data\")\n",
        "  if predictions is not None:\n",
        "    plt.scatter(test_data, predictions, c=\"r\", s=4, label=\"predictions\")\n",
        "  plt.legend(prop={\"size\": 14});"
      ],
      "metadata": {
        "id": "31cQFqlvM2wd"
      },
      "execution_count": null,
      "outputs": []
    },
    {
      "cell_type": "code",
      "source": [
        "plot_predictions();"
      ],
      "metadata": {
        "colab": {
          "base_uri": "https://localhost:8080/",
          "height": 428
        },
        "id": "cpHVptMbNv85",
        "outputId": "d1198413-683f-4eab-9a1d-75a24d70529b"
      },
      "execution_count": null,
      "outputs": [
        {
          "output_type": "display_data",
          "data": {
            "text/plain": [
              "<Figure size 720x504 with 1 Axes>"
            ],
            "image/png": "[encoded data removed]"
          },
          "metadata": {
            "needs_background": "light"
          }
        }
      ]
    },
    {
      "cell_type": "code",
      "source": [
        "# Now we are going to write the prediction model\n",
        "# first, we create a class inheriting all the functionality of the parent class nn.Module\n",
        "# then, we set initial parameters manually\n",
        "# finally, we set the forward function with the linear regression formula\n",
        "class LinearRegressionModel(nn.Module):\n",
        "  def __init__(self):\n",
        "    super().__init__()\n",
        "    self.weights = nn.Parameter(torch.randn(1, dtype=torch.float), requires_grad=True)\n",
        "    self.bias = nn.Parameter(torch.randn(1, dtype=torch.float), requires_grad=True)\n",
        "  def forward(self, x: torch.Tensor) -> torch.Tensor:\n",
        "    return self.weights * x + self.bias"
      ],
      "metadata": {
        "id": "w7xJyvdRP9Rt"
      },
      "execution_count": null,
      "outputs": []
    },
    {
      "cell_type": "code",
      "source": [
        "# Let's create an instance of the model\n",
        "torch.manual_seed(42)\n",
        "model_0 = LinearRegressionModel()"
      ],
      "metadata": {
        "id": "NI8_qCpbW48K"
      },
      "execution_count": null,
      "outputs": []
    },
    {
      "cell_type": "code",
      "source": [
        "# Now let's see the parameters\n",
        "list(model_0.parameters())"
      ],
      "metadata": {
        "colab": {
          "base_uri": "https://localhost:8080/"
        },
        "id": "5CvL_OWeXFGb",
        "outputId": "83f228a5-701e-4d2e-b84a-2f83703196b3"
      },
      "execution_count": null,
      "outputs": [
        {
          "output_type": "execute_result",
          "data": {
            "text/plain": [
              "[Parameter containing:\n",
              " tensor([0.3367], requires_grad=True), Parameter containing:\n",
              " tensor([0.1288], requires_grad=True)]"
            ]
          },
          "metadata": {},
          "execution_count": 47
        }
      ]
    },
    {
      "cell_type": "code",
      "source": [
        "# And the state (gives also the names of the parameters)\n",
        "model_0.state_dict()"
      ],
      "metadata": {
        "colab": {
          "base_uri": "https://localhost:8080/"
        },
        "id": "YolFF89eXPU4",
        "outputId": "d04ba36a-980c-4a93-e280-ce301a87b6e1"
      },
      "execution_count": null,
      "outputs": [
        {
          "output_type": "execute_result",
          "data": {
            "text/plain": [
              "OrderedDict([('weights', tensor([0.3367])), ('bias', tensor([0.1288]))])"
            ]
          },
          "metadata": {},
          "execution_count": 48
        }
      ]
    },
    {
      "cell_type": "code",
      "source": [
        "# Now let's see the predictions this model does for our testing input data\n",
        "with torch.inference_mode():\n",
        "  y_preds = model_0(X_test)"
      ],
      "metadata": {
        "id": "R0riMxvrXaMO"
      },
      "execution_count": null,
      "outputs": []
    },
    {
      "cell_type": "code",
      "source": [
        "print(y_preds)"
      ],
      "metadata": {
        "colab": {
          "base_uri": "https://localhost:8080/"
        },
        "id": "vGYvtKTVYOPq",
        "outputId": "74304279-1a6e-403c-c3da-103adbde6147"
      },
      "execution_count": null,
      "outputs": [
        {
          "output_type": "stream",
          "name": "stdout",
          "text": [
            "tensor([[0.3982],\n",
            "        [0.4049],\n",
            "        [0.4116],\n",
            "        [0.4184],\n",
            "        [0.4251],\n",
            "        [0.4318],\n",
            "        [0.4386],\n",
            "        [0.4453],\n",
            "        [0.4520],\n",
            "        [0.4588]])\n"
          ]
        }
      ]
    },
    {
      "cell_type": "code",
      "source": [
        "plot_predictions(predictions=y_preds)"
      ],
      "metadata": {
        "colab": {
          "base_uri": "https://localhost:8080/",
          "height": 428
        },
        "id": "GBWyh42sYczO",
        "outputId": "0a8eff35-d85b-42aa-e957-16cd869d04da"
      },
      "execution_count": null,
      "outputs": [
        {
          "output_type": "display_data",
          "data": {
            "text/plain": [
              "<Figure size 720x504 with 1 Axes>"
            ],
            "image/png": "[encoded data removed]"
          },
          "metadata": {
            "needs_background": "light"
          }
        }
      ]
    },
    {
      "cell_type": "code",
      "source": [
        "# Now let's see how far our predictions are from what we wanted\n",
        "y_test - y_preds"
      ],
      "metadata": {
        "colab": {
          "base_uri": "https://localhost:8080/"
        },
        "id": "-YcYFCLpYnBQ",
        "outputId": "a1602cd7-d9d8-4c8f-a1ca-48b8d07a340d"
      },
      "execution_count": null,
      "outputs": [
        {
          "output_type": "execute_result",
          "data": {
            "text/plain": [
              "tensor([[0.4618],\n",
              "        [0.4691],\n",
              "        [0.4764],\n",
              "        [0.4836],\n",
              "        [0.4909],\n",
              "        [0.4982],\n",
              "        [0.5054],\n",
              "        [0.5127],\n",
              "        [0.5200],\n",
              "        [0.5272]])"
            ]
          },
          "metadata": {},
          "execution_count": 52
        }
      ]
    },
    {
      "cell_type": "code",
      "source": [
        "# The model is not well tuned\n",
        "# We are going to tune it using a loss function and a optimizer\n",
        "# Since this is a linear regression problem (we are looking for one numeric result),\n",
        "# we will decide to use:\n",
        "# Loss function: mean absolute error\n",
        "# Optimizer: stocastic gradient descent\n",
        "loss_fn = nn.L1Loss()\n",
        "optimizer = torch.optim.SGD(params=model_0.parameters(), lr=0.01)"
      ],
      "metadata": {
        "id": "H488FF57Y06F"
      },
      "execution_count": null,
      "outputs": []
    },
    {
      "cell_type": "code",
      "source": [
        "# Once we have defined the loss function and the optimizer,\n",
        "# we are now going to prepare the training loop and the testing loop\n",
        "# that will be performed for each epoch\n",
        "torch.manual_seed(42)\n",
        "epochs = 200\n",
        "\n",
        "train_loss_values = []\n",
        "test_loss_values = []\n",
        "epoch_count = []\n",
        "\n",
        "for epoch in range(epochs):\n",
        "  model_0.train()\n",
        "  y_pred = model_0(X_train)\n",
        "  loss = loss_fn(y_pred, y_train)\n",
        "  optimizer.zero_grad()\n",
        "  loss.backward()\n",
        "  optimizer.step()\n",
        "  model_0.eval()\n",
        "  with torch.inference_mode():\n",
        "    test_pred = model_0(X_test)\n",
        "    test_loss = loss_fn(test_pred, y_test.type(torch.float))\n",
        "    if epoch % 10 == 0:\n",
        "      epoch_count.append(epoch)\n",
        "      train_loss_values.append(loss.detach().numpy())\n",
        "      test_loss_values.append(test_loss.detach().numpy())\n",
        "      print(f\"Epoch: {epoch} - MAE Train Loss: {loss} - MAE Test Loss: {test_loss}\")"
      ],
      "metadata": {
        "colab": {
          "base_uri": "https://localhost:8080/"
        },
        "id": "PNNvwLM07qFA",
        "outputId": "7f8e1cc1-17ac-4d76-d9fe-23b01b97ec7a"
      },
      "execution_count": null,
      "outputs": [
        {
          "output_type": "stream",
          "name": "stdout",
          "text": [
            "Epoch: 0 - MAE Train Loss: 0.024458957836031914 - MAE Test Loss: 0.05646304413676262\n",
            "Epoch: 10 - MAE Train Loss: 0.021020207554101944 - MAE Test Loss: 0.04819049686193466\n",
            "Epoch: 20 - MAE Train Loss: 0.01758546568453312 - MAE Test Loss: 0.04060482233762741\n",
            "Epoch: 30 - MAE Train Loss: 0.014155393466353416 - MAE Test Loss: 0.03233227878808975\n",
            "Epoch: 40 - MAE Train Loss: 0.010716589167714119 - MAE Test Loss: 0.024059748277068138\n",
            "Epoch: 50 - MAE Train Loss: 0.0072835334576666355 - MAE Test Loss: 0.016474086791276932\n",
            "Epoch: 60 - MAE Train Loss: 0.0038517764769494534 - MAE Test Loss: 0.008201557211577892\n",
            "Epoch: 70 - MAE Train Loss: 0.008932482451200485 - MAE Test Loss: 0.005023092031478882\n",
            "Epoch: 80 - MAE Train Loss: 0.008932482451200485 - MAE Test Loss: 0.005023092031478882\n",
            "Epoch: 90 - MAE Train Loss: 0.008932482451200485 - MAE Test Loss: 0.005023092031478882\n",
            "Epoch: 100 - MAE Train Loss: 0.008932482451200485 - MAE Test Loss: 0.005023092031478882\n",
            "Epoch: 110 - MAE Train Loss: 0.008932482451200485 - MAE Test Loss: 0.005023092031478882\n",
            "Epoch: 120 - MAE Train Loss: 0.008932482451200485 - MAE Test Loss: 0.005023092031478882\n",
            "Epoch: 130 - MAE Train Loss: 0.008932482451200485 - MAE Test Loss: 0.005023092031478882\n",
            "Epoch: 140 - MAE Train Loss: 0.008932482451200485 - MAE Test Loss: 0.005023092031478882\n",
            "Epoch: 150 - MAE Train Loss: 0.008932482451200485 - MAE Test Loss: 0.005023092031478882\n",
            "Epoch: 160 - MAE Train Loss: 0.008932482451200485 - MAE Test Loss: 0.005023092031478882\n",
            "Epoch: 170 - MAE Train Loss: 0.008932482451200485 - MAE Test Loss: 0.005023092031478882\n",
            "Epoch: 180 - MAE Train Loss: 0.008932482451200485 - MAE Test Loss: 0.005023092031478882\n",
            "Epoch: 190 - MAE Train Loss: 0.008932482451200485 - MAE Test Loss: 0.005023092031478882\n"
          ]
        }
      ]
    },
    {
      "cell_type": "code",
      "source": [
        "plt.plot(epoch_count, train_loss_values, label=\"Train Loss\")\n",
        "plt.plot(epoch_count, test_loss_values, label=\"Test Loss\")\n",
        "plt.title(\"Training and test loss curves\")\n",
        "plt.ylabel(\"Loss\")\n",
        "plt.xlabel(\"Epochs\")\n",
        "plt.legend();"
      ],
      "metadata": {
        "colab": {
          "base_uri": "https://localhost:8080/",
          "height": 295
        },
        "id": "EZTfw7IO--5B",
        "outputId": "cfb64de3-3f07-4eb9-fb90-5e104aa0f704"
      },
      "execution_count": null,
      "outputs": [
        {
          "output_type": "display_data",
          "data": {
            "text/plain": [
              "<Figure size 432x288 with 1 Axes>"
            ],
            "image/png": "[encoded data removed]"
          },
          "metadata": {
            "needs_background": "light"
          }
        }
      ]
    },
    {
      "cell_type": "code",
      "source": [
        "print(model_0.state_dict())"
      ],
      "metadata": {
        "colab": {
          "base_uri": "https://localhost:8080/"
        },
        "id": "ed81HEDC_YVE",
        "outputId": "aea87bbd-5acb-44b3-fa8c-5f389833852c"
      },
      "execution_count": null,
      "outputs": [
        {
          "output_type": "stream",
          "name": "stdout",
          "text": [
            "OrderedDict([('weights', tensor([0.6990])), ('bias', tensor([0.3093]))])\n"
          ]
        }
      ]
    },
    {
      "cell_type": "code",
      "source": [
        "# Once we have fine-tuned the model,\n",
        "# now we are going to use it to predict outputs\n",
        "model_0.eval()\n",
        "with torch.inference_mode():\n",
        "  y_preds = model_0(X_test)"
      ],
      "metadata": {
        "id": "jYHrK_KyAwt5"
      },
      "execution_count": null,
      "outputs": []
    },
    {
      "cell_type": "code",
      "source": [
        "y_preds"
      ],
      "metadata": {
        "colab": {
          "base_uri": "https://localhost:8080/"
        },
        "id": "ratz4VqwCUG7",
        "outputId": "1bef72d2-b235-4be5-bb9a-eae558cae2f1"
      },
      "execution_count": null,
      "outputs": [
        {
          "output_type": "execute_result",
          "data": {
            "text/plain": [
              "tensor([[0.8685],\n",
              "        [0.8825],\n",
              "        [0.8965],\n",
              "        [0.9105],\n",
              "        [0.9245],\n",
              "        [0.9384],\n",
              "        [0.9524],\n",
              "        [0.9664],\n",
              "        [0.9804],\n",
              "        [0.9944]])"
            ]
          },
          "metadata": {},
          "execution_count": 61
        }
      ]
    },
    {
      "cell_type": "code",
      "source": [
        "plot_predictions(predictions=y_preds)"
      ],
      "metadata": {
        "colab": {
          "base_uri": "https://localhost:8080/",
          "height": 428
        },
        "id": "UQwUJu7NCVR7",
        "outputId": "7aacfaeb-ee34-42c3-cd35-8594d986a969"
      },
      "execution_count": null,
      "outputs": [
        {
          "output_type": "display_data",
          "data": {
            "text/plain": [
              "<Figure size 720x504 with 1 Axes>"
            ],
            "image/png": "[encoded data removed]"
          },
          "metadata": {
            "needs_background": "light"
          }
        }
      ]
    },
    {
      "cell_type": "code",
      "source": [
        "# Once we have a fine-tuned model, we are now going to save it\n",
        "# IMPORTANT: the recommended way is to save the state_dict() of the model,\n",
        "# because saving the whole model may break the code\n",
        "\n",
        "from pathlib import Path\n",
        "\n",
        "MODEL_PATH = Path(\"models\")\n",
        "MODEL_PATH.mkdir(parents=True, exist_ok=True)\n",
        "MODEL_NAME = \"01_pytorch_workflow_model_0.pth\"\n",
        "MODEL_SAVE_PATH = MODEL_PATH / MODEL_NAME\n",
        "\n",
        "torch.save(obj=model_0.state_dict(), f=MODEL_SAVE_PATH)\n",
        "print(f\"Model saved to: {MODEL_SAVE_PATH}\")"
      ],
      "metadata": {
        "colab": {
          "base_uri": "https://localhost:8080/"
        },
        "id": "sgpa6ae9Cc-i",
        "outputId": "4e220fbe-9a5e-4fac-c98a-2e5f259387c0"
      },
      "execution_count": null,
      "outputs": [
        {
          "output_type": "stream",
          "name": "stdout",
          "text": [
            "Model saved to: models/01_pytorch_workflow_model_0.pth\n"
          ]
        }
      ]
    },
    {
      "cell_type": "code",
      "source": [
        "# Once we have a saved model, we are now going to load it\n",
        "# IMPORTANT: never load a Pytorch model from a source you do not trust\n",
        "loaded_model_0 = LinearRegressionModel()\n",
        "loaded_model_0.load_state_dict(torch.load(f=MODEL_SAVE_PATH))"
      ],
      "metadata": {
        "colab": {
          "base_uri": "https://localhost:8080/"
        },
        "id": "yWWZjkhEFmVx",
        "outputId": "0993a707-cca4-435e-a15f-654da1979f2b"
      },
      "execution_count": null,
      "outputs": [
        {
          "output_type": "execute_result",
          "data": {
            "text/plain": [
              "<All keys matched successfully>"
            ]
          },
          "metadata": {},
          "execution_count": 64
        }
      ]
    },
    {
      "cell_type": "code",
      "source": [
        "# Now let's confirm that the loaded model works as the model_0\n",
        "loaded_model_0.eval()\n",
        "with torch.inference_mode():\n",
        "  loaded_model_preds = loaded_model_0(X_test)"
      ],
      "metadata": {
        "id": "SNqxBzR3G81t"
      },
      "execution_count": null,
      "outputs": []
    },
    {
      "cell_type": "code",
      "source": [
        "# Compare loaded model predictions with model_0 predictions\n",
        "y_preds == loaded_model_preds"
      ],
      "metadata": {
        "colab": {
          "base_uri": "https://localhost:8080/"
        },
        "id": "ISiUnwwOHPqg",
        "outputId": "a71966d6-1b42-432a-b338-4f59426519d8"
      },
      "execution_count": null,
      "outputs": [
        {
          "output_type": "execute_result",
          "data": {
            "text/plain": [
              "tensor([[True],\n",
              "        [True],\n",
              "        [True],\n",
              "        [True],\n",
              "        [True],\n",
              "        [True],\n",
              "        [True],\n",
              "        [True],\n",
              "        [True],\n",
              "        [True]])"
            ]
          },
          "metadata": {},
          "execution_count": 66
        }
      ]
    },
    {
      "cell_type": "code",
      "source": [],
      "metadata": {
        "id": "eXQ4m_DyHd6x"
      },
      "execution_count": null,
      "outputs": []
    }
  ]
}